{
 "cells": [
  {
   "cell_type": "code",
   "id": "initial_id",
   "metadata": {
    "collapsed": true,
    "ExecuteTime": {
     "end_time": "2024-12-24T07:24:04.550130Z",
     "start_time": "2024-12-24T07:24:04.211185Z"
    }
   },
   "source": [
    "import kagglehub\n",
    "\n",
    "dataset_path = kagglehub.dataset_download(\"nancyalaswad90/review\")\n",
    "print(\"Dataset Path:\", dataset_path)"
   ],
   "outputs": [
    {
     "name": "stdout",
     "output_type": "stream",
     "text": [
      "Dataset Path: /Users/anirudh/.cache/kagglehub/datasets/nancyalaswad90/review/versions/5\n"
     ]
    }
   ],
   "execution_count": 60
  },
  {
   "metadata": {
    "ExecuteTime": {
     "end_time": "2024-12-24T07:24:05.680075Z",
     "start_time": "2024-12-24T07:24:05.668457Z"
    }
   },
   "cell_type": "code",
   "source": [
    "from model import Model\n",
    "\n",
    "model = Model(f\"{dataset_path}/diabetes.csv\", target_column=\"Outcome\")\n",
    "model.load_data()"
   ],
   "id": "ac83b21d88aa96e9",
   "outputs": [
    {
     "data": {
      "text/plain": [
       "(     Pregnancies  Glucose  BloodPressure  SkinThickness  Insulin   BMI  \\\n",
       " 0              6      148             72             35        0  33.6   \n",
       " 1              1       85             66             29        0  26.6   \n",
       " 2              8      183             64              0        0  23.3   \n",
       " 3              1       89             66             23       94  28.1   \n",
       " 4              0      137             40             35      168  43.1   \n",
       " ..           ...      ...            ...            ...      ...   ...   \n",
       " 763           10      101             76             48      180  32.9   \n",
       " 764            2      122             70             27        0  36.8   \n",
       " 765            5      121             72             23      112  26.2   \n",
       " 766            1      126             60              0        0  30.1   \n",
       " 767            1       93             70             31        0  30.4   \n",
       " \n",
       "      DiabetesPedigreeFunction  Age  \n",
       " 0                       0.627   50  \n",
       " 1                       0.351   31  \n",
       " 2                       0.672   32  \n",
       " 3                       0.167   21  \n",
       " 4                       2.288   33  \n",
       " ..                        ...  ...  \n",
       " 763                     0.171   63  \n",
       " 764                     0.340   27  \n",
       " 765                     0.245   30  \n",
       " 766                     0.349   47  \n",
       " 767                     0.315   23  \n",
       " \n",
       " [768 rows x 8 columns],\n",
       " 0      1\n",
       " 1      0\n",
       " 2      1\n",
       " 3      0\n",
       " 4      1\n",
       "       ..\n",
       " 763    0\n",
       " 764    0\n",
       " 765    0\n",
       " 766    1\n",
       " 767    0\n",
       " Name: Outcome, Length: 768, dtype: int64)"
      ]
     },
     "execution_count": 61,
     "metadata": {},
     "output_type": "execute_result"
    }
   ],
   "execution_count": 61
  },
  {
   "metadata": {
    "ExecuteTime": {
     "end_time": "2024-12-24T07:24:07.685529Z",
     "start_time": "2024-12-24T07:24:07.677445Z"
    }
   },
   "cell_type": "code",
   "source": [
    "X, y = model.load_data()\n",
    "X = model.preprocess_data(X)"
   ],
   "id": "882ae3bedd2a5604",
   "outputs": [],
   "execution_count": 62
  },
  {
   "metadata": {
    "ExecuteTime": {
     "end_time": "2024-12-24T07:24:09.699803Z",
     "start_time": "2024-12-24T07:24:09.694399Z"
    }
   },
   "cell_type": "code",
   "source": "model.train_test_split_data(X, y)",
   "id": "a862205a442ac264",
   "outputs": [],
   "execution_count": 63
  },
  {
   "metadata": {
    "ExecuteTime": {
     "end_time": "2024-12-24T07:24:11.233874Z",
     "start_time": "2024-12-24T07:24:11.081387Z"
    }
   },
   "cell_type": "code",
   "source": [
    "model.train_model()\n",
    "model.test_model()"
   ],
   "id": "cdd4c21a9ee45e22",
   "outputs": [
    {
     "name": "stdout",
     "output_type": "stream",
     "text": [
      "Accuracy Score: 0.7207792207792207\n",
      "\n",
      "Classification Report:\n",
      "               precision    recall  f1-score   support\n",
      "\n",
      "           0       0.79      0.78      0.78        99\n",
      "           1       0.61      0.62      0.61        55\n",
      "\n",
      "    accuracy                           0.72       154\n",
      "   macro avg       0.70      0.70      0.70       154\n",
      "weighted avg       0.72      0.72      0.72       154\n",
      "\n"
     ]
    }
   ],
   "execution_count": 64
  },
  {
   "metadata": {
    "ExecuteTime": {
     "end_time": "2024-12-24T07:24:14.526336Z",
     "start_time": "2024-12-24T07:24:14.522852Z"
    }
   },
   "cell_type": "code",
   "source": [
    "import matplotlib.pyplot as plt\n",
    "import seaborn as sns"
   ],
   "id": "9cd30bad671e6d5d",
   "outputs": [],
   "execution_count": 65
  },
  {
   "metadata": {
    "ExecuteTime": {
     "end_time": "2024-12-24T07:24:15.624517Z",
     "start_time": "2024-12-24T07:24:15.524220Z"
    }
   },
   "cell_type": "code",
   "source": [
    "plt.figure(figsize=(8, 6))\n",
    "sns.countplot(x=y)\n",
    "\n",
    "plt.title(\"Class Distribution\", fontsize=16)\n",
    "plt.xlabel(\"Status\", fontsize=14)\n",
    "plt.ylabel(\"Count\", fontsize=14)\n",
    "plt.xticks(ticks=[0, 1], labels=[\"No Diabetes\", \"Diabetes\"], fontsize=12)\n",
    "\n",
    "plt.show()"
   ],
   "id": "42e733344064b6a2",
   "outputs": [
    {
     "data": {
      "text/plain": [
       "<Figure size 800x600 with 1 Axes>"
      ],
      "image/png": "[encoded data removed]"
     },
     "metadata": {},
     "output_type": "display_data"
    }
   ],
   "execution_count": 66
  },
  {
   "metadata": {
    "ExecuteTime": {
     "end_time": "2024-12-24T07:24:19.510574Z",
     "start_time": "2024-12-24T07:24:19.470298Z"
    }
   },
   "cell_type": "code",
   "source": "model.save_model()",
   "id": "986be9fc059c7799",
   "outputs": [
    {
     "name": "stdout",
     "output_type": "stream",
     "text": [
      "Model saved to ./model.joblib\n"
     ]
    }
   ],
   "execution_count": 67
  },
  {
   "metadata": {
    "ExecuteTime": {
     "end_time": "2024-12-24T07:24:21.200894Z",
     "start_time": "2024-12-24T07:24:21.172975Z"
    }
   },
   "cell_type": "code",
   "source": "model.load_model()",
   "id": "c0d84ac8012f7d9c",
   "outputs": [
    {
     "name": "stdout",
     "output_type": "stream",
     "text": [
      "Model loaded from ./model.joblib\n"
     ]
    }
   ],
   "execution_count": 68
  }
 ],
 "metadata": {
  "kernelspec": {
   "display_name": "Python 3",
   "language": "python",
   "name": "python3"
  },
  "language_info": {
   "codemirror_mode": {
    "name": "ipython",
    "version": 2
   },
   "file_extension": ".py",
   "mimetype": "text/x-python",
   "name": "python",
   "nbconvert_exporter": "python",
   "pygments_lexer": "ipython2",
   "version": "2.7.6"
  }
 },
 "nbformat": 4,
 "nbformat_minor": 5
}
